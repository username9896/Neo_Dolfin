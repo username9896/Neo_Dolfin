{
 "cells": [
  {
   "cell_type": "code",
   "execution_count": 3,
   "id": "d8fd6aea",
   "metadata": {},
   "outputs": [
    {
     "name": "stdout",
     "output_type": "stream",
     "text": [
      "Data has been stored in sales_data1.csv\n"
     ]
    }
   ],
   "source": [
    "import numpy as np\n",
    "import csv\n",
    "\n",
    "# Generate some sample data\n",
    "np.random.seed(42)\n",
    "time_periods = 5\n",
    "Buddy_Sales = np.random.randint(1000000, 6523425, time_periods)\n",
    "YNAB_Sales = np.random.randint(100, 1000000, time_periods)\n",
    "GoodBudget_Sales = np.random.randint(100, 4000000, time_periods)\n",
    "WeMoney_Sales = np.random.randint(100, 4000000, time_periods)\n",
    "Empower_Sales = np.random.randint(250, 2000000000, time_periods)\n",
    "PocketSmith_Sales = np.random.randint(10, 1500000, time_periods)\n",
    "Dolfin_Sales = np.random.randint(1000, 50000, time_periods)\n",
    "\n",
    "# Combine data into a list of tuples\n",
    "data = list(zip(range(1, time_periods + 1), Buddy_Sales,YNAB_Sales,GoodBudget_Sales,WeMoney_Sales,Empower_Sales,PocketSmith_Sales,Dolfin_Sales))\n",
    "\n",
    "# Define the file name\n",
    "file_name = 'sales_data1.csv'\n",
    "\n",
    "# Write data to CSV file\n",
    "with open(file_name, 'w', newline='') as csvfile:\n",
    "    # Create a CSV writer object\n",
    "    csv_writer = csv.writer(csvfile)\n",
    "\n",
    "    # Write header\n",
    "    csv_writer.writerow(['Time Period', 'Buddy Sales','YNAB Sales','GoodBudget Sales','WeMoney Sales','Empower Sales','PocketSmith Sales','Dolfin Sales'])\n",
    "\n",
    "    # Write data rows\n",
    "    csv_writer.writerows(data)\n",
    "\n",
    "print(f'Data has been stored in {file_name}')"
   ]
  },
  {
   "cell_type": "code",
   "execution_count": 4,
   "id": "0bee3e8d",
   "metadata": {},
   "outputs": [
    {
     "ename": "NameError",
     "evalue": "name 'pd' is not defined",
     "output_type": "error",
     "traceback": [
      "\u001b[1;31m---------------------------------------------------------------------------\u001b[0m",
      "\u001b[1;31mNameError\u001b[0m                                 Traceback (most recent call last)",
      "Cell \u001b[1;32mIn[4], line 2\u001b[0m\n\u001b[0;32m      1\u001b[0m \u001b[38;5;66;03m# Create a DataFrame\u001b[39;00m\n\u001b[1;32m----> 2\u001b[0m data \u001b[38;5;241m=\u001b[39m pd\u001b[38;5;241m.\u001b[39mDataFrame({\u001b[38;5;124m'\u001b[39m\u001b[38;5;124mBuddy_Sales\u001b[39m\u001b[38;5;124m'\u001b[39m:Buddy_Sales, \u001b[38;5;124m'\u001b[39m\u001b[38;5;124mYNAB_Sales\u001b[39m\u001b[38;5;124m'\u001b[39m:YNAB_Sales,\u001b[38;5;124m'\u001b[39m\u001b[38;5;124mGoodBudget_Sales\u001b[39m\u001b[38;5;124m'\u001b[39m :GoodBudget_Sales ,\u001b[38;5;124m'\u001b[39m\u001b[38;5;124mWeMoney_Sales\u001b[39m\u001b[38;5;124m'\u001b[39m:WeMoney_Sales,\u001b[38;5;124m'\u001b[39m\u001b[38;5;124mEmpower_Sales\u001b[39m\u001b[38;5;124m'\u001b[39m:Empower_Sales,\u001b[38;5;124m'\u001b[39m\u001b[38;5;124mPocketSmith_Sales\u001b[39m\u001b[38;5;124m'\u001b[39m:PocketSmith_Sales,\u001b[38;5;124m'\u001b[39m\u001b[38;5;124mDolfin_Sales\u001b[39m\u001b[38;5;124m'\u001b[39m:Dolfin_Sales})\n",
      "\u001b[1;31mNameError\u001b[0m: name 'pd' is not defined"
     ]
    }
   ],
   "source": [
    "# Create a DataFrame\n",
    "data = pd.DataFrame({'Buddy_Sales':Buddy_Sales, 'YNAB_Sales':YNAB_Sales,'GoodBudget_Sales' :GoodBudget_Sales ,'WeMoney_Sales':WeMoney_Sales,'Empower_Sales':Empower_Sales,'PocketSmith_Sales':PocketSmith_Sales,'Dolfin_Sales':Dolfin_Sales})"
   ]
  },
  {
   "cell_type": "code",
   "execution_count": null,
   "id": "5c3dc023",
   "metadata": {},
   "outputs": [],
   "source": [
    "# Import necessary libraries\n",
    "import numpy as np\n",
    "import pandas as pd\n",
    "from sklearn.model_selection import train_test_split\n",
    "from sklearn.linear_model import LinearRegression\n",
    "from sklearn.metrics import mean_squared_error\n",
    "\n",
    "# Generate some sample data\n",
    "np.random.seed(42)\n",
    "time_periods = 100\n",
    "company1_sales = np.random.randint(100, 1000, time_periods)\n",
    "company2_sales = np.random.randint(50, 800, time_periods)\n",
    "\n",
    "# Create a DataFrame\n",
    "data = pd.DataFrame({'Company1_Sales': company1_sales, 'Company2_Sales': company2_sales})\n",
    "\n",
    "# Assume a feature representing time periods\n",
    "data['Time_Period'] = np.arange(1, time_periods + 1)\n",
    "\n",
    "# Define the features (X) and the target variable (y)\n",
    "X = data[['Time_Period']]\n",
    "y = data[['Company1_Sales', 'Company2_Sales']]\n",
    "\n",
    "# Split the data into training and testing sets\n",
    "X_train, X_test, y_train, y_test = train_test_split(X, y, test_size=0.2, random_state=42)\n",
    "\n",
    "# Create a linear regression model\n",
    "model = LinearRegression()\n",
    "\n",
    "# Train the model\n",
    "model.fit(X_train, y_train)\n",
    "\n",
    "# Make predictions on the test set\n",
    "predictions = model.predict(X_test)\n",
    "\n",
    "# Calculate Mean Squared Error (MSE) as a measure of model performance\n",
    "mse = mean_squared_error(y_test, predictions)\n",
    "print(f'Mean Squared Error: {mse}')\n",
    "\n",
    "# Assuming you have future time periods for prediction\n",
    "future_time_periods = np.arange(time_periods + 1, time_periods + 6).reshape(-1, 1)\n",
    "\n",
    "# Make predictions for future time periods\n",
    "future_predictions = model.predict(future_time_periods)\n",
    "\n",
    "# Calculate market share for each company in the future\n",
    "future_market_share_company1 = future_predictions[:, 0] / np.sum(future_predictions, axis=1)\n",
    "future_market_share_company2 = future_predictions[:, 1] / np.sum(future_predictions, axis=1)\n",
    "\n",
    "# Display future market share\n",
    "for i in range(len(future_time_periods)):\n",
    "    print(f'Time Period {future_time_periods[i][0]} - '\n",
    "          f'Company1 Market Share: {future_market_share_company1[i]:.2%}, '\n",
    "          f'Company2 Market Share: {future_market_share_company2[i]:.2%}')"
   ]
  }
 ],
 "metadata": {
  "kernelspec": {
   "display_name": "Python 3 (ipykernel)",
   "language": "python",
   "name": "python3"
  },
  "language_info": {
   "codemirror_mode": {
    "name": "ipython",
    "version": 3
   },
   "file_extension": ".py",
   "mimetype": "text/x-python",
   "name": "python",
   "nbconvert_exporter": "python",
   "pygments_lexer": "ipython3",
   "version": "3.11.5"
  }
 },
 "nbformat": 4,
 "nbformat_minor": 5
}
